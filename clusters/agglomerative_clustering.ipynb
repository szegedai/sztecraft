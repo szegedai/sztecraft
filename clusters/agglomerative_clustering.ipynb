{
 "cells": [
  {
   "cell_type": "code",
   "execution_count": 1,
   "metadata": {
    "collapsed": true,
    "pycharm": {
     "name": "#%%\n"
    }
   },
   "outputs": [
    {
     "name": "stderr",
     "output_type": "stream",
     "text": [
      "/home/anna/miniconda3/envs/testproject/lib/python3.9/site-packages/tqdm/auto.py:22: TqdmWarning: IProgress not found. Please update jupyter and ipywidgets. See https://ipywidgets.readthedocs.io/en/stable/user_install.html\n",
      "  from .autonotebook import tqdm as notebook_tqdm\n"
     ]
    }
   ],
   "source": [
    "\"\"\"\n",
    "https://www.sbert.net/examples/applications/clustering/README.html#\n",
    "This is a simple application for sentence embeddings: clustering\n",
    "Sentences are mapped to sentence embeddings and then agglomerative clustering with a threshold is applied.\n",
    "\"\"\"\n",
    "from sentence_transformers import SentenceTransformer\n",
    "from sklearn.cluster import AgglomerativeClustering\n",
    "import numpy as np\n",
    "\n",
    "embedder = SentenceTransformer('all-MiniLM-L6-v2')"
   ]
  },
  {
   "cell_type": "code",
   "execution_count": 2,
   "outputs": [],
   "source": [
    "corpus = np.loadtxt('question_bank.csv', dtype=str, delimiter=',', usecols=1, unpack=True)\n",
    "corpus_sentences = list(corpus)\n"
   ],
   "metadata": {
    "collapsed": false,
    "pycharm": {
     "name": "#%%\n"
    }
   }
  },
  {
   "cell_type": "code",
   "execution_count": 3,
   "outputs": [],
   "source": [
    "corpus_embeddings = embedder.encode(corpus_sentences)\n",
    "\n"
   ],
   "metadata": {
    "collapsed": false,
    "pycharm": {
     "name": "#%%\n"
    }
   }
  },
  {
   "cell_type": "code",
   "execution_count": 4,
   "outputs": [],
   "source": [
    "# Normalize the embeddings to unit length\n",
    "corpus_embeddings = corpus_embeddings /  np.linalg.norm(corpus_embeddings, axis=1, keepdims=True)\n"
   ],
   "metadata": {
    "collapsed": false,
    "pycharm": {
     "name": "#%%\n"
    }
   }
  },
  {
   "cell_type": "code",
   "execution_count": 5,
   "outputs": [],
   "source": [
    "#clustering_model = AgglomerativeClustering(n_clusters=10, affinity='euclidean', memory=None, connectivity=None, compute_full_tree='auto', linkage='ward', distance_threshold=None, compute_distances=False)\n",
    "clustering_model=AgglomerativeClustering(n_clusters=None, distance_threshold=1.5) #, affinity='cosine', linkage='average', distance_threshold=0.4)\n",
    "clustering_model.fit(corpus_embeddings)\n",
    "cluster_assignment = clustering_model.labels_"
   ],
   "metadata": {
    "collapsed": false,
    "pycharm": {
     "name": "#%%\n"
    }
   }
  },
  {
   "cell_type": "code",
   "execution_count": 6,
   "outputs": [],
   "source": [
    "clustered_sentences = {}\n",
    "for sentence_id, cluster_id in enumerate(cluster_assignment):\n",
    "    if cluster_id not in clustered_sentences:\n",
    "        clustered_sentences[cluster_id] = []\n",
    "\n",
    "    clustered_sentences[cluster_id].append(corpus[sentence_id])\n",
    "\n"
   ],
   "metadata": {
    "collapsed": false,
    "pycharm": {
     "name": "#%%\n"
    }
   }
  },
  {
   "cell_type": "code",
   "execution_count": 9,
   "outputs": [
    {
     "name": "stdout",
     "output_type": "stream",
     "text": [
      "Cluster  1\n",
      "['ClarifyingQuestion', 'What platform?', \"What are 'rub plugs'?\", '\"Shouldn\\'t reference \"\"me\"\"\"', '\"What does \"\"represent tennis\"\" mean?\"', '\"Does the tip of the arrow count as \"\"extra part\"\"?\"', 'Which the PERSON PERFORMING BEHAVIOR is also doing', 'which']\n",
      "\n",
      "Cluster  28\n",
      "['Which color blocks?', 'What color blocks do I place on the west and east side?', 'What color should the four blocks be?', 'I cannot remove a red block so are you sure about the color?', 'What color are the blocks?', 'What color is the block I need to place?', 'What color blocks should be placed?', 'It is not clear about where to build the blocks it is not clear about which color of blocks to build.', 'does not specify color of the blocks being placed', 'What color should the two more blocks be?', 'What color blocks should be used?', 'What color blocks should I place to the west of the blocks?', 'What color blocks and how should they be arranged?', 'What color should the blocks be?', 'What color should the tower of blocks be?', 'What color blocks do I need to place?', 'What color do i use to complete the shell around the yellow blocks?', 'What color blocks should be used? How long of a wall should be built?', 'What color should those blocks be?', 'What is the color of those blocks to built?', 'What color do I make the 11 block wall along the northern border?', 'I see no blue blocks only a green tower. Where would the three blocks be build and what color?', 'What color blocks do I build?', 'What color are the three blocks that should be built?', 'Where do I start building blocks? What color should they be?']\n",
      "\n",
      "Cluster  5\n",
      "['After you remove the one green block there are no more green blocks. Which green blocks are you referring to?', 'What green blocks since there are none?', 'Where are the green blocks? I do not see any.', 'Which green blocks?', 'There is no green block in the given structure so where I need to start from', 'Are three green blocks placed on the newest block or the initial east-most green block?', 'There are no green blocks can you please specify? The grid is empty.', 'Where exactly should the green blocks go?', 'Where do I start placing the first green block on top of the structure?', 'Which block is the left green block on which to place another green block?', 'Where does the final green block go? On top of or next to the orange one?', 'Where specifically do the green blocks go?', 'Could you give me a starting point for the green blocks perhaps from under the yellow column', 'I need a direction to look and a place to start for the green blocks should i start on in the center of the yellow collumn or maybe between the purple columns at the bottom a direction to look would help also.', 'which side to place two green blocks? tell exact slot to build.', 'Where is next in relation to the green block?', 'In second step Where to put the green block ? on which green blocks there are four in total.', 'Which green block do I place in front of?', 'Instructions unclear as there are 3 green blocks to be left over not two.', 'which green block you are mentioning to build at? there are four green blocks to begin.', 'Which block is on the left green that one yellow block should be placed?', 'Where on the green structure did you add the blue columns?', 'number of Green blocks to be placed not given and last part of the instruction not clear', 'Where are two green blocks to be added to the existing green block?', 'Three total or three on each green block?', 'how many green blocks needed to built?', 'Where do I put the green blocks? How many green blocks should be placed?', 'How many blocks to be placed on the green blocks?', 'What should I do with a green block?', 'What style/pattern do I need to build the green blocks?', 'Where should a green block be placed that is top left of which green block?', 'Where are green blocks to be arranged?', 'Can you be more specific about the placement of the final green blocks?', 'Should the new blocks be added to the right or left of existing green block?']\n",
      "\n",
      "Cluster  19\n",
      "['in any square west of the red blocks?', 'There was no red block but instead a purple block', 'What red block?', 'Where is the red block located?', \"Where is the red block you're referring to?\", 'Where is the red block on top?', 'What red blocks?', 'Where are the red blocks located?', 'Where are the red blocks?', 'Which red blocks?', 'On the square directly to the right of the red blocks?', 'Which red block exactly is it referring to?', 'Which red block for there are two?', 'Did you mean one red block?']\n",
      "\n",
      "Cluster  31\n",
      "['Should I destory east or west puyrple?', 'Am I standing on the west side and placing on the east side or standing on the east side and placing on the west side?', 'Facing North from where?', 'Do we start from the east or the west to reach our destination?', 'Away from the blue towards the east?', 'Should the blue line touch the north wall or the south wall?', 'Where should the red line originate? Should it run east-west or north-south?', 'Which right side? Need to know location where to place using north east west or south for direction.', 'From which direction are you considering this to be a stairway? (North south east west)?', 'Should the north corner be in the east or the west?', 'What compass direction are the red squares to be destroyed in?']\n",
      "\n",
      "Cluster  62\n",
      "['Where exactly am I placing the blue blocks?', 'Where are the blue blocks?', 'where are the blue blocks?', 'Where should the second blue block be placed on the stock of blocks?', 'Where do I start placing the blue blocks?', 'On what side of the bottom green block should a blue block be placed?', 'on top of which block? There are so many dark blue blocks.', 'Do you mean underneath the rightmost blue block?', 'What side of the red block should the blue block be placed on?', 'Where near the purple blocks are three blue blocks to be placed?', 'Where on each of the two lower blocks should two blue block extensions be placed?', 'Where do you want the single blue block placed please specify?', 'Where do we place the three blue blocks?', 'Can you clarify the placement of the blocks? Which blue block and where is the red block?', 'Where is the blue block on which two green blocks are to be placed on the right side of it?', 'Can you give me a more specific location for the one blue block in the last instruction?', 'There are only red and blue blocks. Where exactly would be considered in between the blocks present?', 'On the right side of the blue block?']\n",
      "\n",
      "Cluster  73\n",
      "['What purple blocks? There are none only blue.', 'Which three purple blocks on the right side?', \"Which purple block is closest to the ground since there's more than one?\", 'Which purple block to the block do i begin?', 'Which 2 purple blocks?', 'There is no purple blocks shown in the world.', 'Which block do the first two purple go under?', 'Which three purple blocks? There are four on the map', \"I don't see a purple block do you mean yellow instead?\"]\n",
      "\n",
      "Cluster  20\n",
      "['How do i place in the bottom if the purple are touching the ground?', 'Does the orange row connect to the green column?', 'What do you mean by bottommost purple block of the floating column ? There is now purple block in floating column', 'There is no left purple pillar did you mean on the left blue pillar?', '\"Where is the purple where \"\"1 purple to the right of the purple\"\" is supposed to go?\"', '\"Not sure what is meant by \"\"lowest block opposite the purple column\"\"\"', 'There is a 5 block purple column is that the column you are referring to?', 'Should the purple column go on top of the orange column or next to it?', 'Do you want the line of blue blocks to be at the base of the purple column?']\n",
      "\n",
      "Cluster  72\n",
      "['Where on the map do I place the yellow block?', 'Where do I place the vertical yellow blocks?', 'Where do I start to place the horizontal blocks?', 'Where do I place the green blocks on the map?', 'Where should i start placing the blocks maybe the northeast or south east corner i need a spot to start placing the horizontal green blocks and a direction to look at', 'facing which direction to destroy the block located on left?Where to build 4 yellow blocks in a row?', 'Place 4 yellow blocks behind what ?', 'I do not know where exactly i you want me to place the yellow block as they are all at the same elevation. Should i place them on the left side also or should i place two in the center. I just need to know where to build first.', 'How far to the West side of the red do I place the two yellow blocks?', 'Where specifically do I add the yellow blocks?', 'Do I delete the fourth upper yellow block as well to place new blocks on top of the bottom yellow block or are they meant to be placed against a different side of it?', 'After moving all the way north where should three yellow blocks be placed on top of each other?', 'Since the red block(s) are on the northwestern most corner it is physically impossible to place a blue block to its left while looking north. Please advise on where you would like the blue block placed?', 'Where on the north side do I build the yellow block?']\n",
      "\n",
      "Cluster  60\n",
      "[\"Should the two purple blocks I'm setting be placed vertically on top of one another or horizontally and if horizontally which directions should they span?\", 'Do I place the orange blocks horizontally or vertical?', 'Should the three purple blocks be arranged vertically or horizontally?', 'Do you want the purple blocks vertical or horizontal?', 'Do you want the yellow blocks placed horizontally or vertically and/or do you want them to touch one of the faces of the existing yellow blocks?', 'Should the three yellow blocks be placed horizontally or vertically?', 'How do I place the two orange blocks on each side? Vertically or horizontally?', 'Do the blue blocks go vertically or horizontally?', 'Which side do you want the purple blocks placed? Do you want them horizontally or vertically placed? Which ones should touch the yellow structure?', 'Should the yellow blocks be placed vertically or horizontally?']\n",
      "\n",
      "Cluster  4\n",
      "['How many blue blocks am I adding to the first just one on the north and one on the east?', 'What blue blocks?', 'There is no blue block on the stucture', 'Which blue blocks?', 'How many blue blocks do I place in each corner?', 'How many blue blocks should be used in order to form a cross shape?', 'How tall should the pile of blue blocks be?', 'Is it a total of four blue blocks?', 'How many red blocks?', 'How many red blocks need to be placed?', 'How many red blocks should I use to build the pile? Is it a pile or a column?', 'How many blue blocks are there to be added on top of the purple and red blocks?', 'In what configuration should a trio of blue blocks be added to every corner?', 'How many red blocks are to be built on top of the blue blocks?', 'What levels of the purple column do I build the red blocks?', 'How many blue blocks were built in the column?', 'Where and how many blue blocks need to be built next to purple blocks and under yellow blocks?', 'How many blue blocks need to be added from the southwest corner?', 'How many red and blue blocks?', 'How many blue blocks should I place?']\n",
      "\n",
      "Cluster  43\n",
      "[\"How many blocks do I remove from the top? Do I remove the block on the far lower right once or twice I can't tell from the instructions?\", 'Which two blocks on the left should be removed?', 'Which one of the rightmost blocks should be removed?', 'Where are the instructions about adding or removing blocks?', 'Where are the instructions for adding and removing blocks?']\n",
      "\n",
      "Cluster  47\n",
      "['Where is the yellow one? There is no yellow block?', 'What yellow block?', 'What two yellow blocks?', 'What yellow blocks?', 'which yellow blocks?', 'How many yellow blocks? In what direction?', 'How many yellow blocks should be built?', 'Which yellow blocks need to be destroyed?', 'Do you mean yellow or red blocks?', 'Is it a single row of yellow blocks? How high?', 'should clarify if in the same spot as the yellow blocks', \"Doesn't specify which 3 yellow blocks to destroy as there are more than 3.\", \"How many yellow boxes in total? Doesn't specify what exactly to do. There are two places in which I can 'finish the handle'\", 'There are four yellowish blocks. Do you mean to break the lighter yellow blocks and exclude the darker yellow block?', 'Yellow blocks are not on same level thus it is not possible to build strip rather an individual block will have to be put.', 'How many yellow blocks?', '\"Unclear what \"\"next to means.\"\" Are we suppose to place an orange block to cover every single yellow block or only on the highest yellow block?\"', 'Do you mean to break the yellow blocks?', 'How many yellow blocks should be added on top of each red block?']\n",
      "\n",
      "Cluster  68\n",
      "['There are no yellow or blue blocks. Do you want me to place them first?', \"There aren't any yellow or blue blocks do you need me to place them somewhere first?\", \"There aren't any yellow and blue blocks do you want me to place them first?\", 'Do you want the blue blocks adjacent to the yellow blocks or above the green blocks?', 'Do I place the blue blocks below each yellow block?', 'Do you want the green blocks on the sides of the yellow block or on top of it?', 'Which yellow block do you want the blue blocks around?', 'For every block on each side of the yellow block still facing south what color blocks should these blocks be?']\n",
      "\n",
      "Cluster  58\n",
      "['Which direction do we first face before we remove the blue block?', 'Where should the first block be placed?', 'Where should I place the first block?', 'Where should the first block be placed on the grid?', 'where do I place the first block?', 'Does it start from the top or the bottom block?']\n",
      "\n",
      "Cluster  40\n",
      "['The map appears empty to me. Can you clarify your instructions?', 'What is the map?', 'Where in the middle of the map?', 'By the bottom of the map do you mean south?']\n",
      "\n",
      "Cluster  39\n",
      "['Do we build it horizontally or vertically?', 'Where do you want the vertical placement?', 'Do you mean vertically or horizontally and how many?', 'Do you want 16 blocks placed or did you mean vertically?', 'Do I build it vertically or horizontally?', 'Do you mean to remove the three middle blocks horizontally or vertically?', 'How is the pile placed vertically or horizontally?', 'Is the arrangement vertical or horizontal?']\n",
      "\n",
      "Cluster  13\n",
      "['Is it built on top of the left or right yellow block?', \"There are five exposed surfaces total for this green block - what's the placement of these?\", 'Where is this line of blocks?', 'Where are the two lower yellow blocks there are only green blocks in this structure?', 'Left of what because all I see is a single stack of blocks?', 'which three blocks what color and which direction?', 'What orientation should the 3 yellow horizontal blocks be?', '\"What is my orientation in relation to \"\"yellow block to the right?\"\"\"', '\"Which yellow block in the center? What orientation am I to understand \"\"to the right of the block you\\'ve just broken?\"\"\"', 'Where on the east side of the yellow structure is a stack of two green blocks to be placed?', 'There are five faces showing on the yellow block. Which four faces did you add a block to?', 'What is the orientation of the 3 different colored blocks on top?']\n",
      "\n",
      "Cluster  11\n",
      "['The board is empty.', 'Are you referring to the edges of the board?', 'In the center of the board or do you mean between the two purple columns / beneath the red column?', 'There are no white blocks.', 'Where in the center of the board do I draw the green line to?', \"No 'white blocks' available to place on the board\"]\n",
      "\n",
      "Cluster  66\n",
      "['How many green blocks do we destroy?', 'Which three vertical red blocks?', 'Which green blocks specifically should be destroyed?', 'There are four red blocks are there. So which 2 red blocks to destroy? and In which place to create 3 block in a row and its colour?', 'Which of the 4 red blocks should be destroyed?', 'Which two red blocks should I destroy? There are four on the map. Also what orientation and what color should the blocks built be?', 'Which two of the three green blocks on the ground level need to be destroyed?', 'Which red block should be destroyed and what color should the new blocks be?', 'Which three of the four stacked red blocks on the east side need to be destroyed?', 'What 3 green blocks did you destroy?']\n",
      "\n",
      "Cluster  63\n",
      "['Which set of purple blocks east or west?', 'The only vertical violet blocks that are consecutive are on the left side so which ones?', 'Diagonally in what direction?A purple one on top of which block?', 'Does the purple go no the West side of the East side?', 'From which direction are we looking at the highest purple block?', 'There is no blue block in the South East corner please specify?', 'beside means which direction to the purple block?', 'On which side of the west most purple blocks?', 'Where is the lowest purple block at which a blue block is to be placed along its north side?', 'Which of the two south most purple blocks do I place two blue blocks to the east of?', 'What color block goes in the SouthEast corner?', 'By either side do you mean the north and south sides of the eastern purple block?', 'Do you mean the yellow or the blue block on the east?']\n",
      "\n",
      "Cluster  57\n",
      "['You say left but left in terms of which direction where should i be facing for it to be left as orientation matters', 'Which direction is top left?', 'When in the center which direction do we go?', 'Which direction should I be facing when I do this?', 'In a row going which direction?', 'What direction am I facing to place them?', 'What is the second column?Is it the left or right one facing which direction?', '\"What direction should one be facing in order to turn \"\"left\"\"?\"', 'Which direction were you facing while doing this?', 'Forward in which direction?', 'What direction should I be facing?', 'what direction should I face?', 'Left and right as I face which direction?']\n",
      "\n",
      "Cluster  32\n",
      "['Where on the green blocks should the reds be placed?', 'There are no blue blocks on this board; where to place the green blocks and in what position?', 'There are no green blocks. Where do I place the reds?', 'What do you mean by south and right of the red block? What direction do I face?Why does it say a total of 4 blocks should be placed when it only says to place 3?', \"There doesn't appear to be a red block here. Can you clarify? Also what orientation should the green ones be placed in?\", 'There are no red blocks to break. Where do I put the green ones?', 'There are no red blocks. Where do the green blocks go?', 'Which red block should be broken and in what orientation should the three green ones be placed?', 'The board is empty so there are no red blocks to break. Where should the green blocks be placed?', 'A red block on top of what?Where do I put three green ones?', 'The starting point given is not clear no red block to start from so cannot place the green ones anywhere', 'There are no red blocks. Where do I place the green blocks and facing what direction?', 'There are no red blocks where do I put the green blocks?', 'There are no red blocks. Where would you like the green ones placed?', 'Where to the right of the red blocks are three green blocks to be placed?', 'What red blocks? Place them how horizontally or vertically?', 'Place three green blocks to the right of the red ones where?', 'Where are the red blocks? Where should the green blocks be placed?', 'Which blocks on the left should be broken and where do I place green blocks?', 'Which ones on the left should be broken and where do I place the green blocks?', 'What Color three blocks I need to place on top of the rightmost red block is not clear', 'Put the red block on top of which green block there is 2?', 'In which direction do we place the 4 red blocks in a vertical column?', 'There are no red blocks here; where should the yellow blocks be placed?', 'Which two red blocks specifically do I place the green one on?', 'How do I place the 5 red blocks on top? How are they arranged?', 'Should the blocks be placed to the left or the right of the red blocks?', 'Where under the block do I place the red block?', 'On which side of the red blocks do I place the green blocks?', 'What colored block needs to be added to the top of the red blocks?', \"The board is empty and there aren't any blocks to destroy so what color should the 3 blocks be how should they be arranged and where are they on the board?\", 'On which spaces of the board should the eight green blocks be arranged?', 'Where on the top row should the two red blocks go?', 'On which side of the red blocks should the tower of blue blocks be placed?', 'Where do I start placing the red blocks? Should it be on the south face of the red block?']\n",
      "\n",
      "Cluster  29\n",
      "['The instructions are step by step but direction based so once you do one you have to re orient yourself and then there is too many overall', 'Please provide instructions to execute aside from movement?', 'Please provide instructions rather than a personal narrative?', 'Please provide instructions rather than narration?', 'The instructions appear to be unfinished; what should be removed?', 'Can you please clarify on what actions need to be taken as no instructions were given?', 'Please expand on instructions.', 'What are the instructions? There is no information to use.']\n",
      "\n",
      "Cluster  17\n",
      "['do we place the 3 blocks next to each individual green box?', 'Should I place the yellow blocks next to the West most blocks or the East most blocks?', 'I can only place one block in the center.', 'In which direction should the line of green blocks be going?', 'Where in the center do I place three green blocks horizontally?', 'Which direction horizontally should the green blocks be placed as the red structure is in the way?', 'Which direction should I place the green blocks and should it interact with the existing structure?', 'Which red blocks? Which direction should the green blocks be going horizontal or vertical?', 'Which way should I be facing? Where do the green blocks go?', \"This question doesn't make sense. Am I supposed to place more green blocks?\", 'Where should two green blocks be placed horizontally?', 'Where should two green blocks be placed blocks horizontally relative to the already placed blocks?', 'I am not sure where you want me to place the three green blocks horizontally could you give me a starting point', 'Where should three green blocks be placed horizontally?', 'Are we placing the green blocks under the floating red block?', 'Where should three green blocks be placed horizontally relative to the other blocks already placed?', 'Where should three green blocks be placed horizontally relative to the already existing block structures?', 'Where do I start placing green blocks and what orientation should I be facing?', 'Where do I place the green blocks and in which direction will they face?', 'What direction do I face to place the green blocks?', 'Which direction should the green block be placed?', 'Where should six green blocks to the west of the west-most blocks be stacked relative to the west-most blocks?', 'Should this be two green blocks in each of the cardinal directions?', 'Where north of the green blocks should the green blocks be mirrored with yellow blocks?', 'There is only space for one blue box under the green blocks - what is the positioning of the remaining two blocks?', 'While facing north where should the green blocks be placed and how many of them?']\n",
      "\n",
      "Cluster  27\n",
      "['Where do I place two green ones?', 'Where should the green blocks be placed?', 'Put three green ones where?', 'There are no blocks placed currently so i do not know where to start. Should i start just placing the green blocks in a certain corner or something', 'Where should the green ones be placed?', 'Where do I place the green blocks?', 'Where should the green blocks specifically be placed?', 'Where do I start placing the green blocks?', 'Can you tell me where to put the green blocks specifically?', 'Where should I place the green blocks?', 'Where should I start placing the green blocks?', 'where to place these three horizontal green blocks?What is the exact place to place it?', 'where to put two green blocks? mention exact place.', 'Where do I place the green block?']\n",
      "\n",
      "Cluster  52\n",
      "['Can you please specify which red one is on the left? (direction?)', 'Which side of green is not given', 'Which side I need to make the rectangle is not clear', 'Where are the red ones?  Only yellow is there.', 'Which side should I be facing to locate the left of the figure? What color blocks should I break?', 'I do not know which direction to look left is different for north and south should i look north and break three bklocks from the lef and which three should i break could you give me a color', '\"Where on the figure is \"\"across\"\" from the green and red blocks?\"', '\"What color should this \"\"line\"\" be on the left side of what should I build the one red block and what does \"\"1 red south face\"\" mean?\"']\n",
      "\n",
      "Cluster  71\n",
      "[\"Where do the 5 purple blocks placed horizontally to the left of the left block go as there's only space for 4 blocks horizontally?\", 'Where do I place the four purple blocks vertically?', 'Where is the purple block with a space underneath it to put the orange block?', 'Where did you place the first purple block?', 'Where do I put the purple block?', 'How do I place the green and purple blocks?', 'Where would you like to place the purple and green blocks exactly?', 'Where do I place the purple blocks on the grid?', 'Where do I place the 3 purple blocks?', 'Where should I start placing the purple blocks? There are four purple blocks already on the map so which one should I place them to make a row with?', 'Where to the left and right do I place the purple block?', 'Where would you like the purple blocks placed and arranged?', 'Where do I place the purple or green blocks?', 'Where do you place the purple blocks?', 'Where under the purple blocks do I place the blue blocks and with what alignment?', 'Where do I place the purple and green blocks?', 'Where do I arrange the purple and green blocks?', 'Where should I place the purple block?', 'Where do you want the purple and green blocks placed/arranged and in which way (vertical horizontal)?']\n",
      "\n",
      "Cluster  48\n",
      "['There are no blocks to break. Also where should I start placing green blocks?', \"There aren't any blocks to break. Do I just place the blocks then?\", 'There is no red blocks to break from the start should i instead start by breaking a purple block and then placing the three green ones.', 'There is no red block for me to break so i am unsure of where i should start building the green blocks. Should i break the purple and build from there', 'There are no blocks anywhere so i do not know where to start as the first command is to break and build from there.', 'What blocks should I break or build? There is nothing to execute here.', 'You will have to specify which blocks to build and break.']\n",
      "\n",
      "Cluster  65\n",
      "['There is no orange blocks in the structure', 'Where is the orange block?', 'What color are the two blocks that I place next to the orange?How do I place the two blocks?', 'How many orange blocks?', \"There are no existing orange blocks. Can't execute.\", 'Are there two orange blocks total or two orange blocks on each side?', 'What orange blocks?', 'How many orange blocks are in the column?', 'What orange block?How do I place the three yellow blocks?', 'There are no orange blocks did you mean yellow blocks?', 'There are only orange blocks not yellow.']\n",
      "\n",
      "Cluster  35\n",
      "['Break two green blocks facing which direction?', 'Which block should first be broken from left to right?', 'Which direction should we be facing when breaking the two blocks?', \"There's only one block to break where's the other one?\", 'From which left should I break the blocks?', 'Break two blocks from which figure?', 'Break two blocks from the left of what?', 'Break two blocks from the left of where?', 'From which left am I supposed to break the blocks?', 'What direction should I face while breaking the two blocks?', 'What direction should I be facing when breaking the blocks?']\n",
      "\n",
      "Cluster  38\n",
      "['Which directions should the horizontal row span?', 'Which directions should the row span?', 'Which direction should the row be going? At what level of the structure should the row be placed?', 'From which direction should the rows come from?', 'Where should the row begin?', 'Where do I place the follow up rows on the previous rows?', 'Which direction is the row going?']\n",
      "\n",
      "Cluster  10\n",
      "['Which direction should all these new blocks go?', 'In which direction should the three horizontal blocks go?', 'Which direction do the subsequent blocks go from the middle?', 'Which direction do the three blocks head go in?', 'Which direction should the line of blocks go from front to end?', 'Which direction should I be facing so I know which way the two blocks next to the center one should go?', 'Which directions should the horizontal row of blocks span?', 'Which direction should I be facing? What should the green block row be horizontal to the ground or the remaining blocks?', 'In which direction should I be mirroring the structure? What is the starting point?', 'in which direction should the horizontal blocks be placed? where should the horizontal blocks begin?', 'Which blocks do you mean by horizontal? Is it the row of blocks that are in the fifth level of the structure?', 'How far to the north should I move? Should the block row run to the right or left?', 'How many blocks should this line be? Which direction should the line run?', 'Should the blocks be placed in a column or the start of a horizontal line?', 'facing which direction to build those 3 blocks?', 'On which side to mirror the blocks?', 'Should the line of blocks travel North or Eest?']\n",
      "\n",
      "Cluster  42\n",
      "['How many blocks do i need to total?', 'How many blocks should be in each row?', 'How many blocks do I place?', 'How many blocks total do i place?', 'How many of each block do I need to place?', 'Hoe many blocks do I use to make full row?']\n",
      "\n",
      "Cluster  53\n",
      "['Should the purple blocks be on top of each other?', 'Which squares do I build the row of orange blocks?', 'Which squares do I place the orange blocks on next to the purple blocks?', 'Should the purple blocks be placed in the center of the grid or the structure?', 'Stack three purple blocks on top of the old or the newest south-most block?', 'Touching which last green block should two orange blocks and a purple block be placed the last green block on the east edge of the board or the west edge of the board?', 'how to build 2 purple block on top of purple block if there in no block in the voxel world?', 'What order should the purple and red blocks be placed in?', 'In what order should I place the green orange and purple blocks?', 'Do the red blocks go besides the purple blocks and under the yellow blocks?', 'Where do I need to stack the two purple blocks?', 'On which purple block should the two purple blocks be placed horizontally on the left?', 'what side should the blue blocks or purple blocks be placed next to the green blocks?', 'Which purple blocks - all three rows or the two on the ends?', 'It says to place two blocks on the green block assuming yellow block should be on the purple block.', 'On top of the green block do I place the blue block purple block and another blue block vertically or horizontally?', 'On which of the purple blocks should the row of 3 blue blocks be placed?', 'Arrange the purple and green blocks one by one on which squares and in what order?', 'What does arranged mean in this scenario? Do I build green blocks? Where do I build them? I feel like they should be built on top of the purple row but the instructions are unclear.', 'Where between the upper blocks in the two purple stacks is a purple block to be placed?', 'Can you be more specific about the placement of the row of purple blocks?', 'What do you mean by arranging blocks? If I am supposed to build purple and green blocks where should I place them?', 'Arrange the purple and green blocks one by one at which square?', 'Where do the purple and green blocks go exactly?', 'Where on each purple block is a red block to be placed?', 'Should I be adding purple or green blocks or both? Where should they be added?', 'Where should the purple and green blocks be placed in relation to the existing blocks?', 'What do I do with purple green blocks and how are they arranged?', 'With what pattern/alignment do I place the purple and green blocks?', 'With what pattern/alignment do I place the purple and green block?']\n",
      "\n",
      "Cluster  26\n",
      "['\"For the instruction \"\"Reducing the height by one block at a time.\"\" Do I do this until all of the blocks are gone?\"', 'This violates the directions of the task instructions.', 'How do you take blocks and move them?', 'You cannot move blocks.', 'Do I break the structure already in the northwest corner first?', '\"By \"\"arrange\"\" did you mean destroy one and place another block somewhere else?\"', '\"Since instruction indicate this looks like a person unsure if \"\"body\"\" is whole structure so break the two bottom blocks touching the map surface or does \"\"body\"\" mean mid section?\"', '\"Can you be more specific about the block that needs to be destroyed in the second step \"\"middle of the rightmost column\"\"?\"']\n",
      "\n",
      "Cluster  23\n",
      "['There are no red blocks directly north so hard to know where to start', 'There are no red blocks in the world already so i do not know where to start building', 'First there are no red blocks for me to start building the green but second i do not have a starting direction so right does not help Should i face north and then build right?', 'This is not a command on what to build would you like me to maybe destroy some of the west most green blocks or build something else on top i need a command to start with', \"I am facing north but what do I do from there? Do I place purple and green blocks? Where should I place them if that is what I'm supposed to do?\", 'What do I do after facing north with regards to arranging purple and green blocks?', 'Where do I arrange purple and green blocks and how many after I face north?', 'Where do I build the purple and green blocks?', 'Where on the west and east sides do I build the purple block?', \"I am facing north but I don't understand the rest of the instructions. What does arranged mean? Does that mean I will be building blocks? Where should I build the purple and green blocks then?\", 'Build a vertical tower of four red blocks next to the green block furthest to the west.', 'stack 4 orange blocks on the very north west corner then destroy the 4 red blocks that are the farthest to the west', 'I do not know where i should start building the purple and green blocks do you want me to build out from the center of the structure maybe or build at the top?']\n",
      "\n",
      "Cluster  3\n",
      "['There are no purple blocks on this board; is it the blue ones that should be removed?', 'Where are the two yellow lower blocks to break there are only purple and red blocks?', 'Do I destroy the lowest purple block in the vertical row as well?', 'There are many purple blocks which one should be destroyed?', 'There are 3 purples so which do you want destroyed? Also build which blocks?', 'There are no purple blocks what do you mean to destroy?', 'Do you mean remove the top blue block as there is no purple block on top of a yellow block?', 'Do I put the blue block on the new purple blocks or the old?', \"Doesn't say where to put the 3 blue blocks or if you should replace it with the deleted purple blocks.\", 'What blue blocks? If intention is to break the boxes that look purple to me do I break the three vertical center blocks or the three horizontal center blocks?', 'There are no purple boxes so do you want the northern-most blue boxes destroyed?', 'Which two purple blocks need to be destroyed?', 'Destroy which two purple blocks ? top bottom', 'There are multiple purple blocks so which one is the one that needs to be broken?', 'Which two purple blocks do you want destroyed?', 'Which purple block should be destroyed? Where should the row of green blocks be built?', 'Which purple block should be destroyed and which way should the blue blocks go?', 'I do not see any purple blocks hereto start building from would you like me to replace the green blocks with orange blocks instead in the direction specified.', 'How do i replace the purple blocks in the air?', \"There aren't any purple blocks on this map; should the blue tower be destroyed instead?\", 'Am I putting down purple and green blocks? If so where?', 'What is supposed to be done with the purple or green blocks?', 'Which purple block should be destroyed as there are two on top of the building?', 'What is supposed to be done with the purple and green blocks?']\n",
      "\n",
      "Cluster  51\n",
      "[\"I don't know if they mean horizontal from East to West or North to South\", 'What direction should I build the horizontal line?', 'Horizontally where?', 'horizontally towards which direction?', 'horizontally where? where should the line start? Which direction?', 'Which direction do I place the yellow line?', 'Do you mean in a horizontal line all the way across and alternating?']\n",
      "\n",
      "Cluster  41\n",
      "['Bo starting point for the orange blocks so not sure where the center is', 'Where in the center should they go?', 'center of what?', 'BNot sure where center is no starting point given', 'Where in the center do they go?', \"I don't know where the center is. The center of the structure or the center of the grid?\", 'Center of what and where exactly?', 'The center is not really defined here should i start in the center of the structure itself in the center of the map and then which level should i start on', 'In the center of what?', 'Where is the center place?', 'Which Center is not specified', 'Both northern corners are equally near to the center of the grid please specify?', 'The middle is hard to readily determine.']\n",
      "\n",
      "Cluster  21\n",
      "['Where in the center should the three orange blocks be placed?', 'Should the orange blocks be placed and oriented to the east west north or south?', 'Where should I place the orange block? What row is referred to here or where should I place one?', 'On which face of the orange block should the other orange blocks be facing?', 'There is only space for one orange block so where should the other two blocks be?', \"There's only space for one orange block so what is the placement of these orange blocks?\", 'Can you be more specific about where the orange blocks should go?', 'Which blocks should I put the orange blocks next to? How many blocks?', 'How high should I build the orange blocks?', 'How many total orange blocks do I place?Do I fully surround the purple blocks?', 'How many of each blue orange and yellow blocks should I place?', 'How exactly do I need to place five orange blocks?', 'Which way should the orange blocks be placed?']\n",
      "\n",
      "Cluster  8\n",
      "['Horizontally on which squares in the center?', 'What grids should the square be built on?', 'On every side including diagonal and top?', 'How many blue squares? What is meant by finish green rectangle?', 'Do I add 4 squares to each face (if so where?) or 4 total?', 'Is the square flat or standing?', 'Do I add a row of 4 on each red top or total?', 'The space is two-dimensional and includes nine spaces did you want this built in the diagonal direction? Please specify.', 'Following the instructions of removing one row on top would result in a three-by-two red rectangle did you mean remove two rows on top or did you mean three-by-two red square?', 'What do you mean when you say tan square?', '\"How many squares should the southward \"\"wall\"\" cover?\"', 'how many blocks do I need to form square?']\n",
      "\n",
      "Cluster  12\n",
      "['\"Does \"\"Where south meets east\"\" mean in the SE corner?\"', '\"What do you mean by \"\"the spots closest to South\"\". Which spots?\"', 'Where in the Southeast corner?', 'Where in the northeast corner?', '\"What does \"\"further south\"\" mean? Is it one block south or all the way to the edge south?\"', 'Where in the southeast corner do I create it?', 'Where in the southwest corner do place the block?']\n",
      "\n",
      "Cluster  16\n",
      "['There is no center for this structure as there is only two blocks so should i start building on the north or the south for the green blocks', 'How far East do I go to start building?', 'There are no blocks to start with so where should i start building which direction am i looking should i maybe start in the center of the grid and which direction should i build towards', 'Where to the south should it be built?', 'Build them to the south of what?', 'How far east or west should I start building in relation to the purple structure?', 'Where to the southwest do I build?', 'Where do you start and what do you build in the upper side?', 'What should I build or destroy there?', 'where to start building? which block and place to start with? how many blocks to build in total?', '**Instructions do not state what I should do at all.**  What should I build or remove from the grid?']\n",
      "\n",
      "Cluster  45\n",
      "['What block do I destroy first?', 'Which 3 blocks should be destroyed?', 'Which 2 blocks should be destroyed?', 'Destroy which one block?', 'which block to destroy?where to build 3 blocks and ii it horizontal or vertical?', 'Which two blocks should be destroyed?', 'Destroy which 3 blocks?', 'Instructions ambiguous.  Which one block to destroy and where should we build the other 3 blocks?', 'Which one block to destroy and where do I build the other three blocks and how?', 'Destroy which one block and build what kind of blocks where?', 'Which block do I need to destroy?', 'What blocks should be placed or destroyed?']\n",
      "\n",
      "Cluster  55\n",
      "['On which side of the structure should I place the feet?', 'On the ground or not? Vertically or horizontally? In which direction?', 'On the bottom near the ground or in the middle?', 'Directly in front of the extremity or on the ground?', 'Where specifically should the pile go?']\n",
      "\n",
      "Cluster  33\n",
      "['Break a red block on top of where?', 'Break a red block where?', 'Where are two red blocks to be broken?', 'Where are the red blocks you broke?', 'Were the broken red blocks at the bottom of the structure?', '\"By \"\"get the red block take it\"\" did you mean destroy one of the existing red blocks?\"', 'What block was built and destroyed and where were all the blocks placed?', 'Did you mean to break the block under the top yellow block and place a red block? Or did you mean to only break the block under the top yellow block and leave it empty? (There is no place above the red column for a red block based on the build design received.)', 'Which three blocks were destroyed?']\n",
      "\n",
      "Cluster  59\n",
      "['What do they mean by cherry and stem why not just say red and green blocks here confusing the build', '\"How many total green blocks need to be broken?What is the \"\"stem\"\"?\"', 'What is cherry Not clear.']\n",
      "\n",
      "Cluster  34\n",
      "['What direction do I face to place the blue blocks?', 'Place 1 blue block on the left and right sides of what?', 'Create two more of what color of block to place on top of the 2 in the right corner forming a backwards L shape?', 'Put the two blocks to the side of what?', 'Which edges do I add a blue block? Perpendicular or vertical?', 'Place the blue blocks horizontally where?', 'Do I build it perpendicular or parallel to the blue structure?', 'Add three blue blocks where in the center of the north wall?', 'Face north and place three green blocks horizontally next to the blue block on the north side of the blue block']\n",
      "\n",
      "Cluster  36\n",
      "['Skip one row on the west edge of the board from where?', \"There's nowhere west to place a block once I make the columns so where should that block go?\", 'The farthest east part of the structure is a column of blocks so which one should remain?', 'Did you mean middle column? If you meant row the bottom middle block is being barricaded by a red block and the free sides would not be known to be up/down versus east/west.', 'How long should the row of red blocks be? Should it span across the entire east edge or should it be shorter?', 'Where is one space away from a yellow structure to the east that a column of yellow blocks should be built?', 'Which row of blocks are the middle?', 'Where in the corner do I place the column of blocks?', 'Should the new block columns be placed on the corners of the grid or the corners of the structure?']\n",
      "\n",
      "Cluster  61\n",
      "['There is no red block on the structure to start the build order from so not sure where to start', 'The word built is phrased as it is already done do you mean build?', 'your instruction shows no proper specific slot to build.']\n",
      "\n",
      "Cluster  15\n",
      "['Where are the blocks located?', 'Where should the blocks be placed?', 'On which block do I place the ones below?', 'Where do I build the 3 blocks?', 'Can you be more specific about the location of the blocks to be placed?', 'Can you be more specific about the placement and total number of blocks to be placed?', 'The instruction to build 6 3x2 blocks so that the structure is half purple is unclear.', 'Where do you want these blocks arranged specifically?', 'Will you clarify where to place the blocks?', 'Can you be more specific about the placement of the blocks?', 'Where do I need to place the blocks?', 'tell exact slots to built the those blocks.', 'What and where and how do I build another three blocks?', 'Where should the 3 blocks be placed?', 'Where should the other 3 blocks be built?', 'Can you be more specific about the placement and number of blocks to be placed?', 'How should the blocks be arranged?']\n",
      "\n",
      "Cluster  9\n",
      "['Where on the grid should the blue blocks be placed?', 'Where on the grid should the blue block stack begin?', 'Where in the first column from the first row should three green blocks be placed?', 'Where should the row of green blocks be placed?', 'Where on the western green stack should a blue block be placed?', 'Where should the green row begin and end? Where should the blue block be placed?', \"Doesn't specify whether to put the yellow box ON TOP or adjacent next to it. Confusing instructions.\", 'First and third row placement of yellow box is unclear if it should be horizontal or vertical?', 'As the red structure is east of the green stack just placed should the blue blocks go east?', 'Should the blue blocks be in a row or a column? If the blue blocks should be in a row in which directions should the row run?', 'Should the yellow boxes start on the east or west edge of the high purple row?', 'Where on the fourth row should the blue blocks go?', 'As the fourth row from the west is not under the green pillar should the instructions read fifth row or should the new stack be slightly left of the green pillar?', 'Where on the green structure should two blue blocks be placed in a vertical row?', 'Am I supposed to put a yellow block on the east and west ends of the yellow row?']\n",
      "\n",
      "Cluster  37\n",
      "['Which right are you referring too?', 'To the left of what?', 'To the side of what?', '\"Which direction to fact in order to turn \"\"right\"\"?\"', '\"What direction should I be oriented to understand \"\"left\"\" and \"\"right?\"\" Which block is \"\"the right block?\"\" at the end of instruction?\"']\n",
      "\n",
      "Cluster  30\n",
      "['What does a cross shape look like?', \"In which direction should the 'stem' extend?\", \"Doesn't specify in which direction to place the L shape boxes. West north south east of the it?\", 'What do you mean by fillet? What kind of shape do I build with that?', 'Can you please clarify which portion of the northern edge to build on as the edge has many places to start?', 'what direction should the L-shape head towards?']\n",
      "\n",
      "Cluster  2\n",
      "['What color should the row be built with?', 'Which gray spaces?', 'what color should the diagonal columns be?', 'Does not specify which color box to put after the first instruction. Please explain which color you would need for the 2nd step.', 'Which spaces should have green blocks as the ones I see appear to be white or grey?', \"The instructions don't say what color block to place on the first steps. Needs more clarification.\", 'With which color and in which corner should I start the row with?']\n",
      "\n",
      "Cluster  70\n",
      "['Which two blocks specifically?', 'Which block is the bed block?', 'Which blocks?', 'there are many available on above. which block you are mentioning?', 'The newest or oldest middlemost block?']\n",
      "\n",
      "Cluster  25\n",
      "['Where do I place them on the grid?', 'Where do I start placing them?', 'Where do I start placing the blocks on the 11x11 grid?', 'Where should the new blue figure be placed?', '\"What does \"\"place them next to each other\"\" mean? Where?\"', 'How should the trio be placed?', 'Where do I place the block on the figures?']\n",
      "\n",
      "Cluster  69\n",
      "['What square should the 3 blue block tower be built on?', 'On which red block should the purple tower be placed?', 'Where should the tower be placed? Am I meant to stack the blocks one on top of the other?', 'Where on the left side of the structure should a three by three red square be built?', 'While facing north where should a tower made of five red blocks be built?', 'Where and how are four blocks to be placed on top of the purple tower?', 'Where should I place the tower of blue blocks? I see two locations where a tower of three could fit.', 'Where exactly do I need to place the tower of three yellow blocks?', 'In which specific place to build the tower?', 'Where should the tower of blue blocks be built?', 'On which side of the green blocks should the red tower be built?', 'On which side of the green tower should the tower of four yellow bricks be placed?', 'On which side of the tower should I build the new tower?', 'Where underneath the tower do I place the block?', 'On what side do I place the tower?']\n",
      "\n",
      "Cluster  18\n",
      "['Do i stack all four on one red block?', 'Do you mean the vertical stack of red blocks?', 'Do i place a block on top of each block ?', 'Do I stack them horizontally or vertically? How far above on top of the red block?', 'Do I stack them horizontally or vertically? How far above on top of the block?', 'Should the two green blocks be placed on top of each other or next to each other?', 'Do I connect them from the top or bottom blocks?', 'How do I place them on top of the other block? Vertically?', 'Should I place the two red blocks stacked on top of each other? Or should I place them in a row?', 'On which square in the corner do I place the blocks and how exactly do they need to be stacked?', 'On which square next to the blue blocks do I build the vertical stack?', 'Which block do i stack the blocks too?']\n",
      "\n",
      "Cluster  14\n",
      "['Should they be a column or a different shape?', \"I don't understand the instructions.  There is only one column I don't know what is meant by second or fourth columns.  I don't know where to begin.\", 'What is the third column?', \"Doesn't specify which side of the column.\", 'Should I place them in a column or a line?', 'Where between them? Do I place a row or a column?', 'What column?', 'Should I make one column or two?']\n",
      "\n",
      "Cluster  67\n",
      "['How big should the cube be?', 'How large should the tree shape be?', 'How wide should the base of the cube be?']\n",
      "\n",
      "Cluster  49\n",
      "['To the south of what? Where should the stack begin?', 'How far east should the four blocks be stacked?', 'Where to the east do I stack them?', 'How far to the West side of the the west-most blocks do I make the stack?', 'Should the vertical stack go north or west?', 'Where to the west? How do I stack them? Vertical/Horizontal?']\n",
      "\n",
      "Cluster  24\n",
      "['on left side which two purple blocks to be destroyed?Then exactly in which place to build 3 blue blocks in a row?', 'What are we doing with the blue steps?', '\"There are multiple blue blocks so which one should be removed? Also what do the instructions \"\"one blue to my left and yellow to my right\"\" mean?\"', 'Where to build 3 blue blocks ?', 'Where should I build the first blue block?', 'Which two red blocks should I destroy? Also where should I build the three blue blocks?', 'Which 2 blocks do I destroy? Where do I place the 3 blue blocks?', 'Which two blocks do you want destroyed? Where do you want the blue row placed?', 'Where on the right side do I build the blue block?', '\"Should I destroy only the blue blocks on the east side of the structure or does \"\"middle\"\" refer to other blue blocks?\"', 'After the red block destruction is it meant to place a blue block or destroy one?', 'Where should I build the blue blocks after destroying the red blocks? Should I replace the red blocks with blue?']\n",
      "\n",
      "Cluster  44\n",
      "['Should it be the same size as the blue tower?', 'how tall should the structure be?', 'Are the towers right next to the middle one?', 'How do I connect the towers? What do I build to do that? Also do I build a two block tall blue tower on top of the existing blue or make it into a 2 block tower?', 'How tall was the tower?', 'What should I connect the two towers with assuming you meant towers and not towels?']\n",
      "\n",
      "Cluster  74\n",
      "['Do I build three green blocks on top of each yellow block on the top row?', 'Should the three blocks be added in a column?', 'Should I just build one orange block? Because there is only space between the yellow blocks for one block and that is not enough space for a row.', 'Unsure how adding three block blocks to each single blue block will eventually lead this to a rectangular shape? Where do the two rows of more blue blocks come into play?', 'Not sure what the single blue block between the row of blocks is', 'Would the row of 2 blocks be under the blue structure just added?']\n",
      "\n",
      "Cluster  7\n",
      "['Which purple cube is this?', 'Where is the blue cube? Place what to the right?', 'Which green cube would you like to move to the left? Do you want them destroyed?', 'Where do you want the cubes and how big do they need to be?', 'How many blocks should the cube be and should it be horizontal or vertical?', 'Where should this cube be placed on the grid?', 'Where should I place the cube on the grid? How many blocks should be in the cube?', 'How many blocks should make up the cube? Where on the grid should it be placed?', 'How many blocks in the cube and how far south?', 'How many blocks wide should the orange cube be?', 'Where on the south side of the map should the cube be built?', 'Where is a cube with eight green blocks to be built between the blue and red blocks?', 'What color should the cube that I build be?', 'There are 4 bottom cubes which two should be broken?', '\"Where should I place the cube of yellow blocks? I need more precise instructions because \"\"next\"\" is too vague.\"', 'Where on the south side of the map should the cube be?']\n",
      "\n",
      "Cluster  50\n",
      "['What size should the pile be?', '\"Doesn\\'t specify how much a \"\"pile\"\" is unable to execute.\"', 'How many do you mean when you say pile?', \"How big is the pile? And is a 'pile' blocks stacked atop each other?\", '\"What does \"\"a pile\"\" look like and how many blocks?\"', 'How many blocks should be in the bottom of the pile?']\n",
      "\n",
      "Cluster  54\n",
      "['How many purple blocks?', 'How many blocks does the pile of purple blocks contain?', 'Needs more info on how many purple blocks', 'How many purple blocks are to be placed on top of each yellow block?', 'How many purple and green blocks and in what order should they be placed?', 'How many purple and green blocks need to be arranged one by one and where will they be arranged?', 'How many purple blocks should be removed?', 'How many purple blocks should be placed in total?', 'How many purple and green blocks will be arranged and how will they be arranged in a one by one configuration?', 'How many purple blocks need to be added on top of the purple shape?', 'How many purple blocks are in the horizonal row?', 'How many purple and green blocks need to be arranged in a one by one configuration while facing north?', 'How many purple and green blocks?', 'How many purple blocks should be placed and how should they be arranged?', 'How many purple and green blocks and where should they be placed?', 'How many purple and green blocks should be placed and it which direction?', 'How many purple and green blocks and where are they on the board?', 'Can you please clarify where the purple and green blocks will start how many to place of each color and in what order?']\n",
      "\n",
      "Cluster  6\n",
      "[\"Doesn't specify how many green boxes the upside down T shape boxes should be either vertical or horizontal.\", \"Doesn't specify where exactly to put the blue boxes as there are multiple places to put them next to the dark blue boxes.\", 'Do I stack the blue boxes horizontally or vertically?', 'How should the green boxes be stacked on the red box?', 'Should the blue boxes be stacked in the corner or along north the edge?', 'Please explain what you want me to delete or add for boxes?', 'How many green and blue boxes need to be stacked on the south east corner edge of the map?', \"Where would you like me to add the green and purple boxes? Doesn't specify exact location.\", 'Where exactly would you like me to place the green and purple boxes and how many exactly?', 'Where should I add a box?']\n",
      "\n",
      "Cluster  56\n",
      "['Which specific block should I destroy and what color/direction/position should the three block row be?', \"Doesn't say which blocks to destroy and which color of blocks to add.\", 'Which two blocks should I destroy? Also where should I build the blocks and what color should they be?', 'There are no blocks to destroy. And what color are the new blocks to be built?', 'What block should I destroy? What color blocks should I build and where?', 'Which block do you want destroyed? Where do you want the row of 3 built? Which color should the row of 3 be?', 'Which block do you want destroyed? Where do you want the 3 blocks built? In which orientation do you want the 3 blocks built? What color do you want the 3 blocks to be?', 'Which block should I destroy? Also where should I build the 3 blocks and what color should they be?', 'Which block do you want destroyed? Where do you want the 3 blocks built? How do you want them built? What color do you want them to be?', 'Which block should I destroy? Also where should I build the blocks and what color should they be?', 'Which block do you want destroyed? Where do you want the other 3 blocks built? What color do you want the 3 blocks built to be?', 'Which blue box do you want me to destroy? Also which color three blocks to add and where?', 'Which red box to destroy? Also which color of the three blocks and where to add?', 'Destroy which blue block? Build what color blocks where?', 'Destroy which block and build what colored blocks in what spots?']\n",
      "\n",
      "Cluster  64\n",
      "['\"What do you mean by \"\"good robot response\"\"?\"', '\"What does \"\"robot responce is very well\"\" mean?\"']\n",
      "\n",
      "Cluster  46\n",
      "['What do I need to do?', 'What should I do after?']\n",
      "\n",
      "Cluster  22\n",
      "['Do you mean to remove them or add them?', 'Did you mean in the same pattern as the other structures on the map or in a different design?', 'Do you mean replace them with purple ones?', 'Do you mean to make a checkered pattern with them?']\n",
      "\n"
     ]
    }
   ],
   "source": [
    "for i, cluster in clustered_sentences.items():\n",
    "    print(\"Cluster \", i+1)\n",
    "    print(cluster)\n",
    "    print(\"\")"
   ],
   "metadata": {
    "collapsed": false,
    "pycharm": {
     "name": "#%%\n"
    }
   }
  }
 ],
 "metadata": {
  "kernelspec": {
   "display_name": "Python 3",
   "language": "python",
   "name": "python3"
  },
  "language_info": {
   "codemirror_mode": {
    "name": "ipython",
    "version": 2
   },
   "file_extension": ".py",
   "mimetype": "text/x-python",
   "name": "python",
   "nbconvert_exporter": "python",
   "pygments_lexer": "ipython2",
   "version": "2.7.6"
  }
 },
 "nbformat": 4,
 "nbformat_minor": 0
}